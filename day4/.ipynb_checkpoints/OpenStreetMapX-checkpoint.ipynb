{
 "cells": [
  {
   "cell_type": "code",
   "execution_count": 1,
   "metadata": {},
   "outputs": [
    {
     "name": "stdout",
     "output_type": "stream",
     "text": [
      "Working directory : C:\\ComplexNetworks2019\\day4\n"
     ]
    }
   ],
   "source": [
    "println(\"Working directory : $(pwd())\")"
   ]
  },
  {
   "cell_type": "code",
   "execution_count": 2,
   "metadata": {},
   "outputs": [
    {
     "data": {
      "text/plain": [
       "\"C:\\\\ComplexNetworks2019\\\\day4\\\\Project.toml\""
      ]
     },
     "execution_count": 2,
     "metadata": {},
     "output_type": "execute_result"
    }
   ],
   "source": [
    "using Pkg\n",
    "Pkg.activate(\".\")"
   ]
  },
  {
   "cell_type": "code",
   "execution_count": null,
   "metadata": {},
   "outputs": [],
   "source": [
    "#here is the script for Python folium installation\n",
    "#using Conda\n",
    "#Conda.runconda(`install folium -c conda-forge`)"
   ]
  },
  {
   "cell_type": "markdown",
   "metadata": {},
   "source": [
    "# Graph-based analysis of spatial data and transportation system modeling in Julia"
   ]
  },
  {
   "cell_type": "markdown",
   "metadata": {},
   "source": [
    "During this workshop we will be using the [OpenStreetMapX](https://github.com/pszufe/OpenStreetMapX.jl) library. The library makes it possible to process data from the [Open Street Map](https://www.openstreetmap.org/) project.\n",
    "\n",
    "The library is written in Julia but uses the `libexpat` on Linux systems so you need to remember to run the following command:\n",
    "```bash\n",
    "   sudo apt install libexpat-dev\n",
    "```\n",
    "\n",
    "The library supports processing spatial data stored in the [OSM file format](https://wiki.openstreetmap.org/wiki/OSM_file_formats). We will show how to process such data, represent them as a graph, vizualize them and perform routing operations. \n",
    "\n",
    "Authors of this notebook: Przemyslaw Szufel & Bartosz Pankratz\n",
    "\n"
   ]
  },
  {
   "cell_type": "code",
   "execution_count": 3,
   "metadata": {},
   "outputs": [],
   "source": [
    "using OpenStreetMapX"
   ]
  },
  {
   "cell_type": "markdown",
   "metadata": {},
   "source": [
    "## 1. Working with spatial data"
   ]
  },
  {
   "cell_type": "markdown",
   "metadata": {},
   "source": [
    "The [OpenStreetMapX](https://github.com/pszufe/OpenStreetMapX.jl) makes it possible to work with spatial data. The following [geographics coordinate systems](https://en.wikipedia.org/wiki/Geographic_coordinate_system) have been implemented:\n",
    "- <b>Latitude-Longitude-Altitude</b> (LLA)\n",
    "- <b>Earth-centered, Earth-fixed (ECEF)</b> [![ECEF](https://upload.wikimedia.org/wikipedia/commons/8/88/Ecef.png \"ECEF\")](https://en.wikipedia.org/wiki/ECEF)\n",
    "- <b>East, North, Up</b> (ENU) [![ENU](https://upload.wikimedia.org/wikipedia/commons/thumb/7/73/ECEF_ENU_Longitude_Latitude_relationships.svg/800px-ECEF_ENU_Longitude_Latitude_relationships.svg.png \"ENU\")](https://en.wikipedia.org/wiki/Local_tangent_plane_coordinates)\n"
   ]
  },
  {
   "cell_type": "code",
   "execution_count": 4,
   "metadata": {},
   "outputs": [
    {
     "data": {
      "text/plain": [
       "OpenStreetMapX.XYZ(-79.397574, 43.658813, 0.0)"
      ]
     },
     "execution_count": 4,
     "metadata": {},
     "output_type": "execute_result"
    }
   ],
   "source": [
    "fields_XYZ = OpenStreetMapX.XYZ(-79.397574,43.658813, 0.0)"
   ]
  },
  {
   "cell_type": "code",
   "execution_count": 5,
   "metadata": {},
   "outputs": [
    {
     "data": {
      "text/plain": [
       "LLA(43.658813, -79.397574, 0.0)"
      ]
     },
     "execution_count": 5,
     "metadata": {},
     "output_type": "execute_result"
    }
   ],
   "source": [
    "fields_LLA = OpenStreetMapX.LLA(fields_XYZ)"
   ]
  },
  {
   "cell_type": "markdown",
   "metadata": {},
   "source": [
    "The library enables [conversion between diiferent coordinates systems](https://en.wikipedia.org/wiki/Geographic_coordinate_conversion). "
   ]
  },
  {
   "cell_type": "code",
   "execution_count": 6,
   "metadata": {},
   "outputs": [
    {
     "data": {
      "text/plain": [
       "ECEF(850365.5982110817, -4.542824565319083e6, 4.380743975743749e6)"
      ]
     },
     "execution_count": 6,
     "metadata": {},
     "output_type": "execute_result"
    }
   ],
   "source": [
    "fields_ECEF = OpenStreetMapX.ECEF(fields_LLA)"
   ]
  },
  {
   "cell_type": "markdown",
   "metadata": {},
   "source": [
    "Once having a point it can be plotted:"
   ]
  },
  {
   "cell_type": "code",
   "execution_count": 7,
   "metadata": {},
   "outputs": [
    {
     "data": {
      "text/html": [
       "<div style=\"width:100%;\"><div style=\"position:relative;width:100%;height:0;padding-bottom:60%;\"><iframe src=\"data:text/html;charset=utf-8;base64,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\" style=\"position:absolute;width:100%;height:100%;left:0;top:0;border:none !important;\" allowfullscreen webkitallowfullscreen mozallowfullscreen></iframe></div></div>"
      ],
      "text/plain": [
       "PyObject <folium.folium.Map object at 0x00000000023AF6A0>"
      ]
     },
     "execution_count": 7,
     "metadata": {},
     "output_type": "execute_result"
    },
    {
     "name": "stderr",
     "output_type": "stream",
     "text": [
      "┌ Warning: `getindex(o::PyObject, s::AbstractString)` is deprecated in favor of dot overloading (`getproperty`) so elements should now be accessed as e.g. `o.\"s\"` instead of `o[\"s\"]`.\n",
      "│   caller = show(::IOContext{Base.GenericIOBuffer{Array{UInt8,1}}}, ::MIME{Symbol(\"text/html\")}, ::PyObject) at PyCall.jl:895\n",
      "└ @ PyCall C:\\JuliaPkg\\Julia-1.1.1\\packages\\PyCall\\ttONZ\\src\\PyCall.jl:895\n"
     ]
    }
   ],
   "source": [
    "\n",
    "\n",
    "using PyCall\n",
    "flm = pyimport(\"folium\") #note that this requires folium to be installed\n",
    "m = flm.Map()\n",
    "\n",
    "flm.CircleMarker((fields_LLA.lat, fields_LLA.lon),\n",
    "        tooltip=\"Here is the Fields Institute\"\n",
    "    ).add_to(m)\n",
    "MAP_BOUNDS = [ Tuple(m.get_bounds()[1,:].-0.005), Tuple(m.get_bounds()[2,:].+0.005)]\n",
    "\n",
    "\n",
    "m.fit_bounds(MAP_BOUNDS)\n",
    "\n",
    "m"
   ]
  },
  {
   "cell_type": "markdown",
   "metadata": {},
   "source": [
    "## 2. Data import and map parsing"
   ]
  },
  {
   "cell_type": "markdown",
   "metadata": {},
   "source": [
    "Let us import a sample map for processing:"
   ]
  },
  {
   "cell_type": "code",
   "execution_count": 8,
   "metadata": {},
   "outputs": [],
   "source": [
    "pth = joinpath(dirname(pathof(OpenStreetMapX)),\"..\",\"test\",\"data\");\n",
    "name = \"reno_east3.osm\";\n"
   ]
  },
  {
   "cell_type": "code",
   "execution_count": 15,
   "metadata": {},
   "outputs": [
    {
     "name": "stdout",
     "output_type": "stream",
     "text": [
      "OpenStreetMapX.OSMData\n"
     ]
    }
   ],
   "source": [
    "map = OpenStreetMapX.parseOSM(joinpath(pth,name));\n",
    "println(typeof(map))"
   ]
  },
  {
   "cell_type": "markdown",
   "metadata": {},
   "source": [
    "The parser processes mapping data and  `OSMData` and provides the following map information:\n",
    "- `nodes` – points defined by their geograpical coordinates\n",
    "- `ways` – ordered lists of `node`s that are used to describe polylines (roads, buildings, etc.)\n",
    "- `relations` – ordered lists containig nodes, lines and other relations that might have a role assigned (such as highways or bus lines)\n",
    "- `tags` – key-value pairs that are used to store meta-data (feautures) of the above elements. \n"
   ]
  },
  {
   "cell_type": "code",
   "execution_count": 17,
   "metadata": {},
   "outputs": [
    {
     "data": {
      "text/plain": [
       "(:nodes, :ways, :relations, :features, :bounds, :way_tags, :relation_tags)"
      ]
     },
     "execution_count": 17,
     "metadata": {},
     "output_type": "execute_result"
    }
   ],
   "source": [
    "fieldnames(OpenStreetMapX.OSMData)"
   ]
  },
  {
   "cell_type": "code",
   "execution_count": 43,
   "metadata": {},
   "outputs": [],
   "source": [
    "map.bounds;"
   ]
  },
  {
   "cell_type": "code",
   "execution_count": 24,
   "metadata": {},
   "outputs": [],
   "source": [
    "map.nodes;"
   ]
  },
  {
   "cell_type": "code",
   "execution_count": 26,
   "metadata": {},
   "outputs": [],
   "source": [
    "map.features;"
   ]
  },
  {
   "cell_type": "code",
   "execution_count": 30,
   "metadata": {},
   "outputs": [],
   "source": [
    "map.ways;"
   ]
  },
  {
   "cell_type": "code",
   "execution_count": 33,
   "metadata": {},
   "outputs": [],
   "source": [
    "map.way_tags;"
   ]
  },
  {
   "cell_type": "code",
   "execution_count": 34,
   "metadata": {},
   "outputs": [],
   "source": [
    "map.relations;"
   ]
  },
  {
   "cell_type": "code",
   "execution_count": 36,
   "metadata": {},
   "outputs": [],
   "source": [
    "map.relation_tags;"
   ]
  },
  {
   "cell_type": "markdown",
   "metadata": {},
   "source": [
    "Data can be filtered to obtains specific informaton"
   ]
  },
  {
   "cell_type": "code",
   "execution_count": 49,
   "metadata": {},
   "outputs": [],
   "source": [
    "roads = OpenStreetMapX.extract_highways(map.ways); "
   ]
  },
  {
   "cell_type": "code",
   "execution_count": 48,
   "metadata": {},
   "outputs": [],
   "source": [
    "buildings = OpenStreetMapX.extract_buildings(map.ways); "
   ]
  },
  {
   "cell_type": "markdown",
   "metadata": {},
   "source": [
    "Objects on a map can have one of several categories:"
   ]
  },
  {
   "cell_type": "code",
   "execution_count": 63,
   "metadata": {},
   "outputs": [],
   "source": [
    "roadways = OpenStreetMapX.filter_roadways(roads); "
   ]
  },
  {
   "cell_type": "code",
   "execution_count": 64,
   "metadata": {},
   "outputs": [],
   "source": [
    "highways = OpenStreetMapX.filter_roadways(roads,levels =  Set(1)); #highways only"
   ]
  },
  {
   "cell_type": "markdown",
   "metadata": {},
   "source": [
    "Searching for a nearest node `node` for a given set of coordinates"
   ]
  },
  {
   "cell_type": "code",
   "execution_count": 80,
   "metadata": {},
   "outputs": [],
   "source": [
    "point = OpenStreetMapX.ENU(LLA(49.153,-98.39), center(map.bounds));\n",
    "nodes = OpenStreetMapX.ENU(map.nodes, center(map.bounds));"
   ]
  },
  {
   "cell_type": "code",
   "execution_count": 10,
   "metadata": {},
   "outputs": [
    {
     "ename": "UndefVarError",
     "evalue": "UndefVarError: nodes not defined",
     "output_type": "error",
     "traceback": [
      "UndefVarError: nodes not defined",
      "",
      "Stacktrace:",
      " [1] top-level scope at In[10]:1"
     ]
    }
   ],
   "source": [
    "OpenStreetMapX.nearest_node(nodes, point);"
   ]
  },
  {
   "cell_type": "markdown",
   "metadata": {},
   "source": [
    "## 3. Representing a road network as a graph"
   ]
  },
  {
   "cell_type": "markdown",
   "metadata": {},
   "source": [
    "The library makes it possible to create a directed graph representing any road network saved as an `osm` file. Graph will be constructed with the [<tt>LightGraphs.jl](https://github.com/JuliaGraphs/LightGraphs.jl) library - this allowos manipulating it with the rich set of `LightGraphs`' functions. The road network is represented as a `MapData` object containig the following information:"
   ]
  },
  {
   "cell_type": "markdown",
   "metadata": {
    "collapsed": true
   },
   "source": [
    "```julia\n",
    "struct MapData\n",
    "    bounds::Bounds{LLA}\n",
    "    nodes::Dict{Int,ENU}\n",
    "    roadways::Array{Way,1}\n",
    "    intersections::Dict{Int,Set{Int}}\n",
    "    # Transporation network graph data and helpers to increase routing speed\n",
    "    g::LightGraphs.SimpleGraphs.SimpleDiGraph{Int64} # Graph object\n",
    "    v::Dict{Int,Int}                             # (node id) => (graph vertex)\n",
    "    e::Array{Tuple{Int64,Int64},1}                # Edges in graph, stored as a tuple (source,destination)\n",
    "    w::SparseArrays.SparseMatrixCSC{Float64, Int}   # Edge weights, indexed by graph id\n",
    "    class::Vector{Int}                           # Road class of each edge\n",
    "    #MapData(bounds, nodes, roadways, intersections) = new(bounds, nodes, roadways, intersections, LightGraphs.SimpleGraphs.SimpleDiGraph{Int64}(), Dict{Int,Int}(), Tuple{Int64,Int64}[],  SparseMatrixCSC(Matrix{Float64}(undef,0,0)),Int[])\n",
    "end\n",
    "```"
   ]
  },
  {
   "cell_type": "markdown",
   "metadata": {},
   "source": [
    "The actual graph from an osm file can be created with the `get_map_data` function:"
   ]
  },
  {
   "cell_type": "code",
   "execution_count": 16,
   "metadata": {},
   "outputs": [],
   "source": [
    "map_data =  OpenStreetMapX.get_map_data(pth,name,use_cache = false);"
   ]
  },
  {
   "cell_type": "markdown",
   "metadata": {},
   "source": [
    "## 4. Routing algorithms"
   ]
  },
  {
   "cell_type": "markdown",
   "metadata": {},
   "source": [
    "For a graph representing a road network two approaches for routing are available:\n",
    "- using shortest path algorithms implemented within the library\n",
    "- by interacting with <b>[Google Directions API](https://developers.google.com/maps/documentation/directions/start)</b>"
   ]
  },
  {
   "cell_type": "markdown",
   "metadata": {},
   "source": [
    "### 4.1. Finding the shortest path"
   ]
  },
  {
   "cell_type": "markdown",
   "metadata": {},
   "source": [
    "Finding the shortest path can be achieved with the [Dijkstra algorithm](https://en.wikipedia.org/wiki/Dijkstra%27s_algorithm) implemented within the [LightGraphs.jl package](https://github.com/JuliaGraphs/LightGraphs.jl/blob/master/src/shortestpaths/dijkstra.jl). The choice od path is accomplished via the `find_route` method, that allows to find the shortest path within a weighted graph."
   ]
  },
  {
   "cell_type": "code",
   "execution_count": 13,
   "metadata": {},
   "outputs": [],
   "source": [
    "A = OpenStreetMapX.point_to_nodes(OpenStreetMapX.generate_point_in_bounds(map_data), map_data);\n",
    "B = OpenStreetMapX.point_to_nodes(OpenStreetMapX.generate_point_in_bounds(map_data), map_data);"
   ]
  },
  {
   "cell_type": "code",
   "execution_count": 21,
   "metadata": {},
   "outputs": [
    {
     "data": {
      "text/plain": [
       "3-element Array{Any,1}:\n",
       "     [3625688734, 3625689620, 140262034, 3625690826, 3625690885, 3625690941, 3625690951, 3625690953, 3625690854, 3066040577  …  3066040775, 3625687818, 3625687802, 3625687807, 140385614, 140335574, 3625688055, 3625688081, 140396675, 140300156]\n",
       " 3878.8175691965002                                                                                                                                                                                                                                \n",
       "  249.0727180389264                                                                                                                                                                                                                                "
      ]
     },
     "execution_count": 21,
     "metadata": {},
     "output_type": "execute_result"
    }
   ],
   "source": [
    "route = OpenStreetMapX.find_route(map_data, A,B, map_data.w;  get_time=true)"
   ]
  },
  {
   "cell_type": "markdown",
   "metadata": {},
   "source": [
    "The function above has returned the actual route (represented by graph node identifiers), route length (in meters) and the expected time of travel (in seconds).\n",
    "\n",
    "You can select either shortest or fastest route between two points."
   ]
  },
  {
   "cell_type": "code",
   "execution_count": 22,
   "metadata": {},
   "outputs": [
    {
     "data": {
      "text/plain": [
       "([3625688734, 3625689620, 140262034, 3625690826, 3625690885, 3625690941, 3625690951, 3625690953, 3625690854, 3066040577  …  3066040775, 3625687818, 3625687802, 3625687807, 140385614, 140335574, 3625688055, 3625688081, 140396675, 140300156], 3878.8175691965002, 249.0727180389264)"
      ]
     },
     "execution_count": 22,
     "metadata": {},
     "output_type": "execute_result"
    }
   ],
   "source": [
    "shortest_route = OpenStreetMapX.shortest_route(map_data, A,B)"
   ]
  },
  {
   "cell_type": "code",
   "execution_count": 25,
   "metadata": {},
   "outputs": [
    {
     "data": {
      "text/plain": [
       "([3625688734, 3625689620, 140262034, 3625690826, 3625690885, 3625690941, 3625690951, 3625690953, 3625690854, 3066040577  …  3066040775, 3625687818, 3625687802, 3625687807, 140385614, 140335574, 3625688055, 3625688081, 140396675, 140300156], 3878.8175691965002, 249.0727180389264)"
      ]
     },
     "execution_count": 25,
     "metadata": {},
     "output_type": "execute_result"
    }
   ],
   "source": [
    "fastest_route = OpenStreetMapX.fastest_route(map_data, A,B)"
   ]
  },
  {
   "cell_type": "markdown",
   "metadata": {},
   "source": [
    "Routing is also available for three points (arguments for routing functions)."
   ]
  },
  {
   "cell_type": "markdown",
   "metadata": {},
   "source": [
    "You can also search for all nodes with travel times lower than a given value in seconds:"
   ]
  },
  {
   "cell_type": "code",
   "execution_count": 24,
   "metadata": {},
   "outputs": [
    {
     "data": {
      "text/plain": [
       "([140376307, 140267828, 2441017835, 140329389, -2738619323441815670, 3149568817, 3625688614, 140407223, -6526146423741740604, 140055154  …  3625690941, 140561213, 3101117910, 391428816, 140195024, 3101117963, 140323842, 140393853, 580403637, 140457510], [530.35, 398.418, 276.918, 321.815, 511.817, 334.419, 293.616, 457.345, 554.273, 272.391  …  161.014, 420.011, 451.283, 285.965, 240.573, 469.673, 474.976, 433.862, 212.074, 545.95])"
      ]
     },
     "execution_count": 24,
     "metadata": {},
     "output_type": "execute_result"
    }
   ],
   "source": [
    "OpenStreetMapX.nodes_within_driving_time(map_data,[A],600.0)"
   ]
  },
  {
   "cell_type": "markdown",
   "metadata": {},
   "source": [
    "### 4.2. Google Directions API"
   ]
  },
  {
   "cell_type": "markdown",
   "metadata": {},
   "source": [
    "Google directions API can also be used to find the shortest path. \n",
    "This approach requires obtainig a Google API key."
   ]
  },
  {
   "cell_type": "code",
   "execution_count": 34,
   "metadata": {},
   "outputs": [
    {
     "data": {
      "text/plain": [
       "\"C:\\\\!BIBLIOTEKA\\\\JuliaMapy\\\\googleapi.key\""
      ]
     },
     "execution_count": 34,
     "metadata": {},
     "output_type": "execute_result"
    }
   ],
   "source": [
    "googleapi_key_file = \"\\\\path_to_the_key\\\\googleapi.key\";\n",
    "googleapi_key_file = raw\"C:\\!BIBLIOTEKA\\JuliaMapy\\googleapi.key\""
   ]
  },
  {
   "cell_type": "code",
   "execution_count": 35,
   "metadata": {},
   "outputs": [
    {
     "name": "stderr",
     "output_type": "stream",
     "text": [
      "┌ Warning: Google Distances API cannot get a proper results - route will be calculated with OSMSim Routing module\n",
      "└ @ OpenStreetMapX C:\\JuliaPkg\\Julia-1.1.1\\packages\\OpenStreetMapX\\vHhHu\\src\\google_routing.jl:197\n"
     ]
    },
    {
     "data": {
      "text/plain": [
       "([3625688734, 3625689620, 140262034, 3625690826, 3625690885, 3625690941, 3625690951, 3625690953, 3625690854, 3066040577  …  3066040775, 3625687818, 3625687802, 3625687807, 140385614, 140335574, 3625688055, 3625688081, 140396675, 140300156], \"fastest\")"
      ]
     },
     "execution_count": 35,
     "metadata": {},
     "output_type": "execute_result"
    }
   ],
   "source": [
    "google_route = get_google_route(A,B,\n",
    "                            map_data,\n",
    "                            googleapi_key_file)"
   ]
  },
  {
   "cell_type": "markdown",
   "metadata": {},
   "source": [
    "The results are encoded in [Encoded Polyline Algorithm](https://developers.google.com/maps/documentation/utilities/polylinealgorithm). And need to be decoded - see the example below."
   ]
  },
  {
   "cell_type": "code",
   "execution_count": 107,
   "metadata": {},
   "outputs": [
    {
     "data": {
      "text/plain": [
       "3-element Array{Tuple{Float64,Float64},1}:\n",
       " (38.5, -120.2)    \n",
       " (40.7, -120.95)   \n",
       " (43.252, -126.453)"
      ]
     },
     "execution_count": 107,
     "metadata": {},
     "output_type": "execute_result"
    }
   ],
   "source": [
    "OpenStreetMapX.decode(\"_p~iF~ps|U_ulLnnqC_mqNvxq`@\")"
   ]
  }
 ],
 "metadata": {
  "@webio": {
   "lastCommId": null,
   "lastKernelId": null
  },
  "kernelspec": {
   "display_name": "Julia 1.1.1",
   "language": "julia",
   "name": "julia-1.1"
  },
  "language_info": {
   "file_extension": ".jl",
   "mimetype": "application/julia",
   "name": "julia",
   "version": "1.1.1"
  }
 },
 "nbformat": 4,
 "nbformat_minor": 2
}
